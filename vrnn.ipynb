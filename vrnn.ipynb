{
 "cells": [
  {
   "cell_type": "code",
   "execution_count": null,
   "metadata": {},
   "outputs": [],
   "source": [
    "from dataloader import get_data\n",
    "from runner import NLBRunner\n",
    "from model import VRNN\n",
    "\n",
    "import torch\n",
    "from datetime import datetime\n",
    "import os\n",
    "\n",
    "\n",
    "dataset_name = 'mc_maze_large'\n",
    "phase = 'val'\n",
    "bin_size = 5\n",
    "data_path = '/scratch/gilbreth/akamsali/Research/Makin/000138/sub-Jenkins'\n",
    "# Extract data\n",
    "dataset, train_dict, eval_dict, training_input, training_output, eval_input = get_data(data_path, dataset_name, phase, bin_size)\n",
    "\n",
    "# Train/val split and convert to Torch tensors\n",
    "num_train = int(round(training_input.shape[0] * 0.75))\n",
    "train_input = torch.Tensor(training_input[:num_train])\n",
    "train_output = torch.Tensor(training_output[:num_train])\n",
    "val_input = torch.Tensor(training_input[num_train:])\n",
    "val_output = torch.Tensor(training_output[num_train:])\n",
    "eval_input = torch.Tensor(eval_input)\n",
    "\n",
    "\n",
    "RUN_NAME = datetime.now().strftime(\"%Y-%m-%d_%H-%M-%S\") + '_model'\n",
    "RUN_DIR = './runs/'\n",
    "if not os.path.isdir(RUN_DIR):\n",
    "    os.mkdir(RUN_DIR)\n",
    "\n",
    "DROPOUT = 0\n",
    "L2_WEIGHT = 5e-7\n",
    "LR_INIT = 1.5e-2\n",
    "CD_RATIO = 0.27\n",
    "HIDDEN_DIM = 40\n",
    "USE_GPU = True\n",
    "MAX_GPUS = 1\n",
    "\n",
    "runner = NLBRunner(\n",
    "    model_init=VRNN,\n",
    "    model_cfg={'x_dim': train_input.shape[2], 'h_dim': HIDDEN_DIM, 'z_dim': HIDDEN_DIM, 'out_dim': train_output.shape[2], 'n_layers': 1, 'dropout': DROPOUT},\n",
    "    data=(train_input, train_output, val_input, val_output, eval_input),\n",
    "    train_cfg={'lr': LR_INIT, 'alpha': L2_WEIGHT, 'cd_ratio': CD_RATIO},\n",
    "    use_gpu=USE_GPU,\n",
    "    num_gpus=MAX_GPUS,\n",
    ")"
   ]
  }
 ],
 "metadata": {
  "language_info": {
   "name": "python"
  },
  "orig_nbformat": 4
 },
 "nbformat": 4,
 "nbformat_minor": 2
}
